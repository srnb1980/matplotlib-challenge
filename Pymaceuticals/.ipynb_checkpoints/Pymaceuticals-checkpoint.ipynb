{
 "cells": [
  {
   "cell_type": "markdown",
   "metadata": {},
   "source": [
    "## Observations and Insights"
   ]
  },
  {
   "cell_type": "markdown",
   "metadata": {},
   "source": []
  },
  {
   "cell_type": "markdown",
   "metadata": {},
   "source": [
    "## Dependencies and starter code"
   ]
  },
  {
   "cell_type": "code",
   "execution_count": 1,
   "metadata": {},
   "outputs": [
    {
     "data": {
      "text/html": [
       "<div>\n",
       "<style scoped>\n",
       "    .dataframe tbody tr th:only-of-type {\n",
       "        vertical-align: middle;\n",
       "    }\n",
       "\n",
       "    .dataframe tbody tr th {\n",
       "        vertical-align: top;\n",
       "    }\n",
       "\n",
       "    .dataframe thead th {\n",
       "        text-align: right;\n",
       "    }\n",
       "</style>\n",
       "<table border=\"1\" class=\"dataframe\">\n",
       "  <thead>\n",
       "    <tr style=\"text-align: right;\">\n",
       "      <th></th>\n",
       "      <th>Mouse ID</th>\n",
       "      <th>Drug Regimen</th>\n",
       "      <th>Sex</th>\n",
       "      <th>Age_months</th>\n",
       "      <th>Weight (g)</th>\n",
       "      <th>Timepoint</th>\n",
       "      <th>Tumor Volume (mm3)</th>\n",
       "      <th>Metastatic Sites</th>\n",
       "    </tr>\n",
       "  </thead>\n",
       "  <tbody>\n",
       "    <tr>\n",
       "      <th>0</th>\n",
       "      <td>k403</td>\n",
       "      <td>Ramicane</td>\n",
       "      <td>Male</td>\n",
       "      <td>21</td>\n",
       "      <td>16</td>\n",
       "      <td>0</td>\n",
       "      <td>45.000000</td>\n",
       "      <td>0</td>\n",
       "    </tr>\n",
       "    <tr>\n",
       "      <th>1</th>\n",
       "      <td>k403</td>\n",
       "      <td>Ramicane</td>\n",
       "      <td>Male</td>\n",
       "      <td>21</td>\n",
       "      <td>16</td>\n",
       "      <td>5</td>\n",
       "      <td>38.825898</td>\n",
       "      <td>0</td>\n",
       "    </tr>\n",
       "    <tr>\n",
       "      <th>2</th>\n",
       "      <td>k403</td>\n",
       "      <td>Ramicane</td>\n",
       "      <td>Male</td>\n",
       "      <td>21</td>\n",
       "      <td>16</td>\n",
       "      <td>10</td>\n",
       "      <td>35.014271</td>\n",
       "      <td>1</td>\n",
       "    </tr>\n",
       "    <tr>\n",
       "      <th>3</th>\n",
       "      <td>k403</td>\n",
       "      <td>Ramicane</td>\n",
       "      <td>Male</td>\n",
       "      <td>21</td>\n",
       "      <td>16</td>\n",
       "      <td>15</td>\n",
       "      <td>34.223992</td>\n",
       "      <td>1</td>\n",
       "    </tr>\n",
       "    <tr>\n",
       "      <th>4</th>\n",
       "      <td>k403</td>\n",
       "      <td>Ramicane</td>\n",
       "      <td>Male</td>\n",
       "      <td>21</td>\n",
       "      <td>16</td>\n",
       "      <td>20</td>\n",
       "      <td>32.997729</td>\n",
       "      <td>1</td>\n",
       "    </tr>\n",
       "    <tr>\n",
       "      <th>...</th>\n",
       "      <td>...</td>\n",
       "      <td>...</td>\n",
       "      <td>...</td>\n",
       "      <td>...</td>\n",
       "      <td>...</td>\n",
       "      <td>...</td>\n",
       "      <td>...</td>\n",
       "      <td>...</td>\n",
       "    </tr>\n",
       "    <tr>\n",
       "      <th>1888</th>\n",
       "      <td>z969</td>\n",
       "      <td>Naftisol</td>\n",
       "      <td>Male</td>\n",
       "      <td>9</td>\n",
       "      <td>30</td>\n",
       "      <td>25</td>\n",
       "      <td>63.145652</td>\n",
       "      <td>2</td>\n",
       "    </tr>\n",
       "    <tr>\n",
       "      <th>1889</th>\n",
       "      <td>z969</td>\n",
       "      <td>Naftisol</td>\n",
       "      <td>Male</td>\n",
       "      <td>9</td>\n",
       "      <td>30</td>\n",
       "      <td>30</td>\n",
       "      <td>65.841013</td>\n",
       "      <td>3</td>\n",
       "    </tr>\n",
       "    <tr>\n",
       "      <th>1890</th>\n",
       "      <td>z969</td>\n",
       "      <td>Naftisol</td>\n",
       "      <td>Male</td>\n",
       "      <td>9</td>\n",
       "      <td>30</td>\n",
       "      <td>35</td>\n",
       "      <td>69.176246</td>\n",
       "      <td>4</td>\n",
       "    </tr>\n",
       "    <tr>\n",
       "      <th>1891</th>\n",
       "      <td>z969</td>\n",
       "      <td>Naftisol</td>\n",
       "      <td>Male</td>\n",
       "      <td>9</td>\n",
       "      <td>30</td>\n",
       "      <td>40</td>\n",
       "      <td>70.314904</td>\n",
       "      <td>4</td>\n",
       "    </tr>\n",
       "    <tr>\n",
       "      <th>1892</th>\n",
       "      <td>z969</td>\n",
       "      <td>Naftisol</td>\n",
       "      <td>Male</td>\n",
       "      <td>9</td>\n",
       "      <td>30</td>\n",
       "      <td>45</td>\n",
       "      <td>73.867845</td>\n",
       "      <td>4</td>\n",
       "    </tr>\n",
       "  </tbody>\n",
       "</table>\n",
       "<p>1893 rows × 8 columns</p>\n",
       "</div>"
      ],
      "text/plain": [
       "     Mouse ID Drug Regimen   Sex  Age_months  Weight (g)  Timepoint  \\\n",
       "0        k403     Ramicane  Male          21          16          0   \n",
       "1        k403     Ramicane  Male          21          16          5   \n",
       "2        k403     Ramicane  Male          21          16         10   \n",
       "3        k403     Ramicane  Male          21          16         15   \n",
       "4        k403     Ramicane  Male          21          16         20   \n",
       "...       ...          ...   ...         ...         ...        ...   \n",
       "1888     z969     Naftisol  Male           9          30         25   \n",
       "1889     z969     Naftisol  Male           9          30         30   \n",
       "1890     z969     Naftisol  Male           9          30         35   \n",
       "1891     z969     Naftisol  Male           9          30         40   \n",
       "1892     z969     Naftisol  Male           9          30         45   \n",
       "\n",
       "      Tumor Volume (mm3)  Metastatic Sites  \n",
       "0              45.000000                 0  \n",
       "1              38.825898                 0  \n",
       "2              35.014271                 1  \n",
       "3              34.223992                 1  \n",
       "4              32.997729                 1  \n",
       "...                  ...               ...  \n",
       "1888           63.145652                 2  \n",
       "1889           65.841013                 3  \n",
       "1890           69.176246                 4  \n",
       "1891           70.314904                 4  \n",
       "1892           73.867845                 4  \n",
       "\n",
       "[1893 rows x 8 columns]"
      ]
     },
     "execution_count": 1,
     "metadata": {},
     "output_type": "execute_result"
    }
   ],
   "source": [
    "# Dependencies and Setup\n",
    "import matplotlib.pyplot as plt\n",
    "import pandas as pd\n",
    "import scipy.stats as st\n",
    "from scipy.stats import linregress\n",
    "import numpy as np\n",
    "from sklearn import datasets\n",
    "\n",
    "# Study data files\n",
    "mouse_metadata = \"data/Mouse_metadata.csv\"\n",
    "study_results = \"data/Study_results.csv\"\n",
    "\n",
    "# Read the mouse data and the study results\n",
    "mouse_metadata = pd.read_csv(mouse_metadata)\n",
    "study_results = pd.read_csv(study_results)\n",
    "combined_data=pd.merge(mouse_metadata,study_results,on=\"Mouse ID\")\n",
    "# Combine the data into a single dataset\n",
    "combined_data"
   ]
  },
  {
   "cell_type": "markdown",
   "metadata": {},
   "source": [
    "## Summary statistics"
   ]
  },
  {
   "cell_type": "code",
   "execution_count": 2,
   "metadata": {},
   "outputs": [
    {
     "data": {
      "text/html": [
       "<div>\n",
       "<style scoped>\n",
       "    .dataframe tbody tr th:only-of-type {\n",
       "        vertical-align: middle;\n",
       "    }\n",
       "\n",
       "    .dataframe tbody tr th {\n",
       "        vertical-align: top;\n",
       "    }\n",
       "\n",
       "    .dataframe thead th {\n",
       "        text-align: right;\n",
       "    }\n",
       "</style>\n",
       "<table border=\"1\" class=\"dataframe\">\n",
       "  <thead>\n",
       "    <tr style=\"text-align: right;\">\n",
       "      <th></th>\n",
       "      <th>Mean</th>\n",
       "      <th>Median</th>\n",
       "      <th>Variance</th>\n",
       "      <th>Standard_Deviation</th>\n",
       "      <th>SEM</th>\n",
       "    </tr>\n",
       "    <tr>\n",
       "      <th>Drug Regimen</th>\n",
       "      <th></th>\n",
       "      <th></th>\n",
       "      <th></th>\n",
       "      <th></th>\n",
       "      <th></th>\n",
       "    </tr>\n",
       "  </thead>\n",
       "  <tbody>\n",
       "    <tr>\n",
       "      <th>Ramicane</th>\n",
       "      <td>40.216745</td>\n",
       "      <td>40.673236</td>\n",
       "      <td>23.486704</td>\n",
       "      <td>4.846308</td>\n",
       "      <td>0.320955</td>\n",
       "    </tr>\n",
       "    <tr>\n",
       "      <th>Capomulin</th>\n",
       "      <td>40.675741</td>\n",
       "      <td>41.557809</td>\n",
       "      <td>24.947764</td>\n",
       "      <td>4.994774</td>\n",
       "      <td>0.329346</td>\n",
       "    </tr>\n",
       "    <tr>\n",
       "      <th>Infubinol</th>\n",
       "      <td>52.884795</td>\n",
       "      <td>51.820584</td>\n",
       "      <td>43.128684</td>\n",
       "      <td>6.567243</td>\n",
       "      <td>0.492236</td>\n",
       "    </tr>\n",
       "    <tr>\n",
       "      <th>Placebo</th>\n",
       "      <td>54.033581</td>\n",
       "      <td>52.288934</td>\n",
       "      <td>61.168083</td>\n",
       "      <td>7.821003</td>\n",
       "      <td>0.581331</td>\n",
       "    </tr>\n",
       "    <tr>\n",
       "      <th>Ceftamin</th>\n",
       "      <td>52.591172</td>\n",
       "      <td>51.776157</td>\n",
       "      <td>39.290177</td>\n",
       "      <td>6.268188</td>\n",
       "      <td>0.469821</td>\n",
       "    </tr>\n",
       "    <tr>\n",
       "      <th>Stelasyn</th>\n",
       "      <td>54.233149</td>\n",
       "      <td>52.431737</td>\n",
       "      <td>59.450562</td>\n",
       "      <td>7.710419</td>\n",
       "      <td>0.573111</td>\n",
       "    </tr>\n",
       "    <tr>\n",
       "      <th>Zoniferol</th>\n",
       "      <td>53.236507</td>\n",
       "      <td>51.818479</td>\n",
       "      <td>48.533355</td>\n",
       "      <td>6.966589</td>\n",
       "      <td>0.516398</td>\n",
       "    </tr>\n",
       "    <tr>\n",
       "      <th>Ketapril</th>\n",
       "      <td>55.235638</td>\n",
       "      <td>53.698743</td>\n",
       "      <td>68.553577</td>\n",
       "      <td>8.279709</td>\n",
       "      <td>0.603860</td>\n",
       "    </tr>\n",
       "    <tr>\n",
       "      <th>Propriva</th>\n",
       "      <td>52.322552</td>\n",
       "      <td>50.854632</td>\n",
       "      <td>42.351070</td>\n",
       "      <td>6.507770</td>\n",
       "      <td>0.512884</td>\n",
       "    </tr>\n",
       "    <tr>\n",
       "      <th>Naftisol</th>\n",
       "      <td>54.331565</td>\n",
       "      <td>52.509285</td>\n",
       "      <td>66.173479</td>\n",
       "      <td>8.134708</td>\n",
       "      <td>0.596466</td>\n",
       "    </tr>\n",
       "  </tbody>\n",
       "</table>\n",
       "</div>"
      ],
      "text/plain": [
       "                   Mean     Median   Variance  Standard_Deviation       SEM\n",
       "Drug Regimen                                                               \n",
       "Ramicane      40.216745  40.673236  23.486704            4.846308  0.320955\n",
       "Capomulin     40.675741  41.557809  24.947764            4.994774  0.329346\n",
       "Infubinol     52.884795  51.820584  43.128684            6.567243  0.492236\n",
       "Placebo       54.033581  52.288934  61.168083            7.821003  0.581331\n",
       "Ceftamin      52.591172  51.776157  39.290177            6.268188  0.469821\n",
       "Stelasyn      54.233149  52.431737  59.450562            7.710419  0.573111\n",
       "Zoniferol     53.236507  51.818479  48.533355            6.966589  0.516398\n",
       "Ketapril      55.235638  53.698743  68.553577            8.279709  0.603860\n",
       "Propriva      52.322552  50.854632  42.351070            6.507770  0.512884\n",
       "Naftisol      54.331565  52.509285  66.173479            8.134708  0.596466"
      ]
     },
     "execution_count": 2,
     "metadata": {},
     "output_type": "execute_result"
    }
   ],
   "source": [
    "# Generate a summary statistics table of mean, median, variance, standard deviation, and SEM of the tumor volume for each regimen\n",
    "Regimen=combined_data[\"Drug Regimen\"].unique()\n",
    "\n",
    "column_names = [\"Drug Regimen\", \"Mean\",\"Median\", \"Variance\", \"Standard_Deviation\",\"SEM\"]\n",
    "Summary_Statistics_df = pd.DataFrame(columns = column_names)\n",
    "\n",
    "for Drug in Regimen:\n",
    "    Spec_Drug_data_df=combined_data[combined_data[\"Drug Regimen\"].isin([Drug])]\n",
    "    \n",
    "    Mean=Spec_Drug_data_df[\"Tumor Volume (mm3)\"].mean()\n",
    "    Median=Spec_Drug_data_df[\"Tumor Volume (mm3)\"].median()\n",
    "    Variance=Spec_Drug_data_df[\"Tumor Volume (mm3)\"].var()\n",
    "    Standard_Deviation=Spec_Drug_data_df[\"Tumor Volume (mm3)\"].std()\n",
    "    SEM=Spec_Drug_data_df[\"Tumor Volume (mm3)\"].sem()\n",
    "    Summary_Statistics_dict=[{\"Drug Regimen\":Drug,\n",
    "                          \"Mean\": Mean, \n",
    "                          \"Median\": Median,\n",
    "                          \"Variance\":Variance,\n",
    "                          \"Standard_Deviation\":Standard_Deviation,\n",
    "                          \"SEM\":SEM}]\n",
    "    Statistics_df=pd.DataFrame(Summary_Statistics_dict)\n",
    "    Summary_Statistics_df=Summary_Statistics_df.append(Statistics_df,ignore_index = True)\n",
    "Final_Stats_df=Summary_Statistics_df.set_index(\"Drug Regimen\")\n",
    "Final_Stats_df"
   ]
  },
  {
   "cell_type": "markdown",
   "metadata": {},
   "source": [
    "## Bar plots"
   ]
  },
  {
   "cell_type": "code",
   "execution_count": 3,
   "metadata": {},
   "outputs": [
    {
     "data": {
      "text/plain": [
       "Text(0, 0.5, 'DataPoints')"
      ]
     },
     "execution_count": 3,
     "metadata": {},
     "output_type": "execute_result"
    },
    {
     "data": {
      "image/png": "[encoded data removed]",
      "text/plain": [
       "<Figure size 720x216 with 1 Axes>"
      ]
     },
     "metadata": {
      "needs_background": "light"
     },
     "output_type": "display_data"
    }
   ],
   "source": [
    "# Generate a bar plot showing number of data points for each treatment regimen using pandas\n",
    "combined_data[\"Drug Regimen\"].value_counts()\n",
    "DRUG_REGIMEN_df=combined_data[\"Drug Regimen\"].value_counts().rename_axis('Drug Regimen').reset_index(name='Total Count')\n",
    "NEW_DRUG_REGIMEN_df=DRUG_REGIMEN_df.set_index(\"Drug Regimen\")\n",
    "NEW_DRUG_REGIMEN_df\n",
    "NEW_DRUG_REGIMEN_df.plot(kind=\"bar\", figsize=(10,3), color='g')\n",
    "plt.title(\"DrugRegimen Datapoints\")\n",
    "plt.ylabel('DataPoints')"
   ]
  },
  {
   "cell_type": "code",
   "execution_count": 4,
   "metadata": {},
   "outputs": [
    {
     "data": {
      "text/plain": [
       "([0, 1, 2, 3, 4, 5, 6, 7, 8, 9], <a list of 10 Text xticklabel objects>)"
      ]
     },
     "execution_count": 4,
     "metadata": {},
     "output_type": "execute_result"
    },
    {
     "data": {
      "image/png": "[encoded data removed]",
      "text/plain": [
       "<Figure size 720x216 with 1 Axes>"
      ]
     },
     "metadata": {
      "needs_background": "light"
     },
     "output_type": "display_data"
    }
   ],
   "source": [
    "# Generate a bar plot showing number of data points for each treatment regimen using pyplot\n",
    "plt.figure(figsize=(10,3))\n",
    "x_axis=DRUG_REGIMEN_df[\"Drug Regimen\"]\n",
    "y_axis = DRUG_REGIMEN_df[\"Total Count\"]\n",
    "plt.title(\"DrugRegimen Datapoints\")\n",
    "plt.xlabel(\"DrugRegimen\")\n",
    "plt.ylabel(\"DataPoints\")\n",
    "plt.bar(x_axis, y_axis, width=0.5,color='g', alpha=0.5, align=\"center\")\n",
    "plt.xticks(rotation='vertical')"
   ]
  },
  {
   "cell_type": "markdown",
   "metadata": {},
   "source": [
    "## Pie plots"
   ]
  },
  {
   "cell_type": "code",
   "execution_count": 5,
   "metadata": {},
   "outputs": [
    {
     "name": "stderr",
     "output_type": "stream",
     "text": [
      "C:\\Users\\write\\.conda\\envs\\PythonData\\lib\\site-packages\\ipykernel_launcher.py:15: MatplotlibDeprecationWarning: Adding an axes using the same arguments as a previous axes currently reuses the earlier instance.  In a future version, a new instance will always be created and returned.  Meanwhile, this warning can be suppressed, and the future behavior ensured, by passing a unique label to each axes instance.\n",
      "  from ipykernel import kernelapp as app\n"
     ]
    },
    {
     "data": {
      "text/plain": [
       "Text(0, 0.5, '')"
      ]
     },
     "execution_count": 5,
     "metadata": {},
     "output_type": "execute_result"
    },
    {
     "data": {
      "image/png": "[encoded data removed]",
      "text/plain": [
       "<Figure size 432x288 with 1 Axes>"
      ]
     },
     "metadata": {},
     "output_type": "display_data"
    }
   ],
   "source": [
    "# Generate a pie plot showing the distribution of female versus male mice using pandas\n",
    "mouse_metadata\n",
    "Mouse_Sex_df=mouse_metadata[\"Sex\"].value_counts().rename_axis('Sex').reset_index(name='Total Count')\n",
    "New_Mouse_Sex_df=Mouse_Sex_df.set_index(\"Sex\")\n",
    "New_Mouse_Sex_df\n",
    "\n",
    "# The colors of each section of the pie chart\n",
    "colors = [\"red\", \"lightskyblue\"]\n",
    "\n",
    "# Tells matplotlib to seperate the \"Male vs Female\" section from the others\n",
    "explode = (0.1, 0)\n",
    "\n",
    "ax=New_Mouse_Sex_df.plot(kind='pie', explode=explode, colors=colors, autopct='%1.1f%%',fontsize=10,subplots=True,shadow=True, startangle=140,legend=False )\n",
    "plt.title(\"Distribution of female versus male mice\")\n",
    "plt.axes().set_ylabel('')"
   ]
  },
  {
   "cell_type": "code",
   "execution_count": 6,
   "metadata": {},
   "outputs": [
    {
     "data": {
      "text/plain": [
       "Text(0.5, 1.0, 'Distribution of female versus male mice')"
      ]
     },
     "execution_count": 6,
     "metadata": {},
     "output_type": "execute_result"
    },
    {
     "data": {
      "image/png": "[encoded data removed]",
      "text/plain": [
       "<Figure size 432x288 with 1 Axes>"
      ]
     },
     "metadata": {},
     "output_type": "display_data"
    }
   ],
   "source": [
    "# Generate a pie plot showing the distribution of female versus male mice using pyplot\n",
    "# Labels for the sections of our pie chart\n",
    "labels = Mouse_Sex_df[\"Sex\"]\n",
    "# The values of each section of the pie chart\n",
    "sizes = Mouse_Sex_df[\"Total Count\"]\n",
    "plt.pie(sizes, explode=explode, labels=labels, colors=colors,\n",
    "        autopct=\"%1.1f%%\", shadow=True, startangle=140)\n",
    "plt.title(\"Distribution of female versus male mice\")"
   ]
  },
  {
   "cell_type": "markdown",
   "metadata": {},
   "source": [
    "## Quartiles, outliers and boxplots"
   ]
  },
  {
   "cell_type": "code",
   "execution_count": 7,
   "metadata": {},
   "outputs": [
    {
     "data": {
      "text/html": [
       "<div>\n",
       "<style scoped>\n",
       "    .dataframe tbody tr th:only-of-type {\n",
       "        vertical-align: middle;\n",
       "    }\n",
       "\n",
       "    .dataframe tbody tr th {\n",
       "        vertical-align: top;\n",
       "    }\n",
       "\n",
       "    .dataframe thead th {\n",
       "        text-align: right;\n",
       "    }\n",
       "</style>\n",
       "<table border=\"1\" class=\"dataframe\">\n",
       "  <thead>\n",
       "    <tr style=\"text-align: right;\">\n",
       "      <th></th>\n",
       "      <th>Mouse ID</th>\n",
       "      <th>Drug Regimen</th>\n",
       "      <th>Timepoint</th>\n",
       "      <th>Final Tumor Volume</th>\n",
       "      <th>Metastatic Sites</th>\n",
       "    </tr>\n",
       "  </thead>\n",
       "  <tbody>\n",
       "    <tr>\n",
       "      <th>0</th>\n",
       "      <td>a203</td>\n",
       "      <td>Infubinol</td>\n",
       "      <td>45</td>\n",
       "      <td>67.973419</td>\n",
       "      <td>2</td>\n",
       "    </tr>\n",
       "    <tr>\n",
       "      <th>1</th>\n",
       "      <td>a251</td>\n",
       "      <td>Infubinol</td>\n",
       "      <td>45</td>\n",
       "      <td>65.525743</td>\n",
       "      <td>1</td>\n",
       "    </tr>\n",
       "    <tr>\n",
       "      <th>2</th>\n",
       "      <td>a262</td>\n",
       "      <td>Placebo</td>\n",
       "      <td>45</td>\n",
       "      <td>70.717621</td>\n",
       "      <td>4</td>\n",
       "    </tr>\n",
       "    <tr>\n",
       "      <th>3</th>\n",
       "      <td>a275</td>\n",
       "      <td>Ceftamin</td>\n",
       "      <td>45</td>\n",
       "      <td>62.999356</td>\n",
       "      <td>3</td>\n",
       "    </tr>\n",
       "    <tr>\n",
       "      <th>4</th>\n",
       "      <td>a366</td>\n",
       "      <td>Stelasyn</td>\n",
       "      <td>30</td>\n",
       "      <td>63.440686</td>\n",
       "      <td>1</td>\n",
       "    </tr>\n",
       "    <tr>\n",
       "      <th>...</th>\n",
       "      <td>...</td>\n",
       "      <td>...</td>\n",
       "      <td>...</td>\n",
       "      <td>...</td>\n",
       "      <td>...</td>\n",
       "    </tr>\n",
       "    <tr>\n",
       "      <th>244</th>\n",
       "      <td>z435</td>\n",
       "      <td>Propriva</td>\n",
       "      <td>10</td>\n",
       "      <td>48.710661</td>\n",
       "      <td>0</td>\n",
       "    </tr>\n",
       "    <tr>\n",
       "      <th>245</th>\n",
       "      <td>z578</td>\n",
       "      <td>Ramicane</td>\n",
       "      <td>45</td>\n",
       "      <td>30.638696</td>\n",
       "      <td>0</td>\n",
       "    </tr>\n",
       "    <tr>\n",
       "      <th>246</th>\n",
       "      <td>z581</td>\n",
       "      <td>Infubinol</td>\n",
       "      <td>45</td>\n",
       "      <td>62.754451</td>\n",
       "      <td>3</td>\n",
       "    </tr>\n",
       "    <tr>\n",
       "      <th>247</th>\n",
       "      <td>z795</td>\n",
       "      <td>Naftisol</td>\n",
       "      <td>45</td>\n",
       "      <td>65.741070</td>\n",
       "      <td>3</td>\n",
       "    </tr>\n",
       "    <tr>\n",
       "      <th>248</th>\n",
       "      <td>z969</td>\n",
       "      <td>Naftisol</td>\n",
       "      <td>45</td>\n",
       "      <td>73.867845</td>\n",
       "      <td>4</td>\n",
       "    </tr>\n",
       "  </tbody>\n",
       "</table>\n",
       "<p>249 rows × 5 columns</p>\n",
       "</div>"
      ],
      "text/plain": [
       "    Mouse ID Drug Regimen  Timepoint  Final Tumor Volume  Metastatic Sites\n",
       "0       a203    Infubinol         45           67.973419                 2\n",
       "1       a251    Infubinol         45           65.525743                 1\n",
       "2       a262      Placebo         45           70.717621                 4\n",
       "3       a275     Ceftamin         45           62.999356                 3\n",
       "4       a366     Stelasyn         30           63.440686                 1\n",
       "..       ...          ...        ...                 ...               ...\n",
       "244     z435     Propriva         10           48.710661                 0\n",
       "245     z578     Ramicane         45           30.638696                 0\n",
       "246     z581    Infubinol         45           62.754451                 3\n",
       "247     z795     Naftisol         45           65.741070                 3\n",
       "248     z969     Naftisol         45           73.867845                 4\n",
       "\n",
       "[249 rows x 5 columns]"
      ]
     },
     "execution_count": 7,
     "metadata": {},
     "output_type": "execute_result"
    }
   ],
   "source": [
    "mouse_metadata\n",
    "study_results\n",
    "# Group by Mouse ID and Drug Regimen to get to the Final Tumor Volume or each mouse\n",
    "groupby_MouseID_df = combined_data.groupby([\"Mouse ID\",\"Drug Regimen\"])\n",
    "groupby_MouseID_df.count()\n",
    "Final_Tumor_Volume_df=groupby_MouseID_df[\"Timepoint\"].max().reset_index(name='Timepoint')\n",
    "Final_Tumor_Volume_df.head(30)\n",
    "# Merging the Final Tumor value with Drug Regimen\n",
    "merge_df=pd.merge(Final_Tumor_Volume_df,study_results, on=[\"Mouse ID\",\"Timepoint\"])\n",
    "merge_df.rename(columns = {'Tumor Volume (mm3)':'Final Tumor Volume'}, inplace = True)\n",
    "merge_df"
   ]
  },
  {
   "cell_type": "code",
   "execution_count": 8,
   "metadata": {},
   "outputs": [
    {
     "name": "stdout",
     "output_type": "stream",
     "text": [
      "The lower quartile of Capomulin tumor volume is: 32.37735684\n",
      "The upper quartile of Capomulin tumor volume is: 40.1592203\n",
      "The interquartile range of Capomulin tumor volume is: 7.781863460000004\n",
      "The the median of Capomulin tumor volume is: 38.125164399999996 \n",
      "Capomulin Values below 20.70456164999999 could be outliers.\n",
      "Capomulin Values above 51.83201549 could be outliers.\n",
      "--------------------------------\n",
      "Below are the Capomulin Outliers\n",
      "--------------------------------\n",
      "No outlier data for Capomulin Drug Regimen Final Tumor Volumes \n"
     ]
    },
    {
     "data": {
      "text/html": [
       "<div>\n",
       "<style scoped>\n",
       "    .dataframe tbody tr th:only-of-type {\n",
       "        vertical-align: middle;\n",
       "    }\n",
       "\n",
       "    .dataframe tbody tr th {\n",
       "        vertical-align: top;\n",
       "    }\n",
       "\n",
       "    .dataframe thead th {\n",
       "        text-align: right;\n",
       "    }\n",
       "</style>\n",
       "<table border=\"1\" class=\"dataframe\">\n",
       "  <thead>\n",
       "    <tr style=\"text-align: right;\">\n",
       "      <th></th>\n",
       "      <th>Mouse ID</th>\n",
       "      <th>Drug Regimen</th>\n",
       "      <th>Timepoint</th>\n",
       "      <th>Final Tumor Volume</th>\n",
       "      <th>Metastatic Sites</th>\n",
       "    </tr>\n",
       "  </thead>\n",
       "  <tbody>\n",
       "  </tbody>\n",
       "</table>\n",
       "</div>"
      ],
      "text/plain": [
       "Empty DataFrame\n",
       "Columns: [Mouse ID, Drug Regimen, Timepoint, Final Tumor Volume, Metastatic Sites]\n",
       "Index: []"
      ]
     },
     "execution_count": 8,
     "metadata": {},
     "output_type": "execute_result"
    }
   ],
   "source": [
    "# Calculate the final tumor volume of each mouse across four of the most promising treatment regimens. Calculate the IQR and quantitatively determine if there are any potential outliers. \n",
    "# Calculating for Capomulin\n",
    "Search_Str=['Capomulin']\n",
    "Capomulin_df=merge_df[merge_df[\"Drug Regimen\"].isin(Search_Str)]\n",
    "Capomulin_df\n",
    "Cap_quartiles = Capomulin_df[\"Final Tumor Volume\"].quantile([.25,.5,.75])\n",
    "Cap_quartiles\n",
    "Cap_lowerq = Cap_quartiles[0.25]\n",
    "Cap_upperq = Cap_quartiles[0.75]\n",
    "Cap_iqr = Cap_upperq-Cap_lowerq\n",
    "print(f\"The lower quartile of Capomulin tumor volume is: {Cap_lowerq}\")\n",
    "print(f\"The upper quartile of Capomulin tumor volume is: {Cap_upperq}\")\n",
    "print(f\"The interquartile range of Capomulin tumor volume is: {Cap_iqr}\")\n",
    "print(f\"The the median of Capomulin tumor volume is: {Cap_quartiles[0.5]} \")\n",
    "\n",
    "Cap_lower_bound = Cap_lowerq - (1.5*Cap_iqr)\n",
    "Cap_upper_bound = Cap_upperq + (1.5*Cap_iqr)\n",
    "print(f\"Capomulin Values below {Cap_lower_bound} could be outliers.\")\n",
    "print(f\"Capomulin Values above {Cap_upper_bound} could be outliers.\")\n",
    "is_Outliers=(Capomulin_df[\"Final Tumor Volume\"] > Cap_upper_bound) | (Capomulin_df[\"Final Tumor Volume\"] < Cap_lower_bound)\n",
    "#final_Tumor_Volumes_Promising_Regimens_df.head(63)\n",
    "print(\"--------------------------------\")\n",
    "print(\"Below are the Capomulin Outliers\")\n",
    "print(\"--------------------------------\")\n",
    "if(len(Capomulin_df[is_Outliers])== 0):\n",
    "    print(\"No outlier data for Capomulin Drug Regimen Final Tumor Volumes \")\n",
    "Capomulin_df[is_Outliers]"
   ]
  },
  {
   "cell_type": "code",
   "execution_count": 9,
   "metadata": {},
   "outputs": [
    {
     "name": "stdout",
     "output_type": "stream",
     "text": [
      "The lower quartile of Ramicane tumor volume is: 31.56046955\n",
      "The upper quartile of Ramicane tumor volume is: 40.65900627\n",
      "The interquartile range of Ramicane tumor volume is: 9.098536719999998\n",
      "The the median of Ramicane tumor volume is: 36.56165229 \n",
      "Ramicane Values below 17.912664470000003 could be outliers.\n",
      "Ramicane Values above 54.30681135 could be outliers.\n",
      "-------------------------------\n",
      "Below are the Ramicane Outliers\n",
      "-------------------------------\n",
      "No outlier data for Ramicane Drug Regimen Final Tumor Volumes \n"
     ]
    },
    {
     "data": {
      "text/html": [
       "<div>\n",
       "<style scoped>\n",
       "    .dataframe tbody tr th:only-of-type {\n",
       "        vertical-align: middle;\n",
       "    }\n",
       "\n",
       "    .dataframe tbody tr th {\n",
       "        vertical-align: top;\n",
       "    }\n",
       "\n",
       "    .dataframe thead th {\n",
       "        text-align: right;\n",
       "    }\n",
       "</style>\n",
       "<table border=\"1\" class=\"dataframe\">\n",
       "  <thead>\n",
       "    <tr style=\"text-align: right;\">\n",
       "      <th></th>\n",
       "      <th>Mouse ID</th>\n",
       "      <th>Drug Regimen</th>\n",
       "      <th>Timepoint</th>\n",
       "      <th>Final Tumor Volume</th>\n",
       "      <th>Metastatic Sites</th>\n",
       "    </tr>\n",
       "  </thead>\n",
       "  <tbody>\n",
       "  </tbody>\n",
       "</table>\n",
       "</div>"
      ],
      "text/plain": [
       "Empty DataFrame\n",
       "Columns: [Mouse ID, Drug Regimen, Timepoint, Final Tumor Volume, Metastatic Sites]\n",
       "Index: []"
      ]
     },
     "execution_count": 9,
     "metadata": {},
     "output_type": "execute_result"
    }
   ],
   "source": [
    "# Calculating for Ramicane\n",
    "Search_Str=['Ramicane']\n",
    "Ramicane_df=merge_df[merge_df[\"Drug Regimen\"].isin(Search_Str)]\n",
    "Ramicane_df\n",
    "Ram_quartiles = Ramicane_df[\"Final Tumor Volume\"].quantile([.25,.5,.75])\n",
    "Ram_quartiles\n",
    "Ram_lowerq = Ram_quartiles[0.25]\n",
    "Ram_upperq = Ram_quartiles[0.75]\n",
    "Ram_iqr = Ram_upperq-Ram_lowerq\n",
    "print(f\"The lower quartile of Ramicane tumor volume is: {Ram_lowerq}\")\n",
    "print(f\"The upper quartile of Ramicane tumor volume is: {Ram_upperq}\")\n",
    "print(f\"The interquartile range of Ramicane tumor volume is: {Ram_iqr}\")\n",
    "print(f\"The the median of Ramicane tumor volume is: {Ram_quartiles[0.5]} \")\n",
    "\n",
    "Ram_lower_bound = Ram_lowerq - (1.5*Ram_iqr)\n",
    "Ram_upper_bound = Ram_upperq + (1.5*Ram_iqr)\n",
    "print(f\"Ramicane Values below {Ram_lower_bound} could be outliers.\")\n",
    "print(f\"Ramicane Values above {Ram_upper_bound} could be outliers.\")\n",
    "is_Outliers=(Ramicane_df[\"Final Tumor Volume\"] > Ram_upper_bound) | (Ramicane_df[\"Final Tumor Volume\"] < Ram_lower_bound)\n",
    "#final_Tumor_Volumes_Promising_Regimens_df.head(63)\n",
    "print(\"-------------------------------\")\n",
    "print(\"Below are the Ramicane Outliers\")\n",
    "print(\"-------------------------------\")\n",
    "if(len(Ramicane_df[is_Outliers])== 0):\n",
    "    print(\"No outlier data for Ramicane Drug Regimen Final Tumor Volumes \")\n",
    "Ramicane_df[is_Outliers]"
   ]
  },
  {
   "cell_type": "code",
   "execution_count": 10,
   "metadata": {},
   "outputs": [
    {
     "name": "stdout",
     "output_type": "stream",
     "text": [
      "The lower quartile of Infubinol tumor volume is: 54.04860769\n",
      "The upper quartile of Infubinol tumor volume is: 65.52574285\n",
      "The interquartile range of Infubinol tumor volume is: 11.477135160000003\n",
      "The the median of Infubinol tumor volume is: 60.16518046 \n",
      "Infubinol Values below 36.83290494999999 could be outliers.\n",
      "Infubinol Values above 82.74144559000001 could be outliers.\n",
      "--------------------------------\n",
      "Below are the Infubinol Outliers\n",
      "--------------------------------\n"
     ]
    },
    {
     "data": {
      "text/html": [
       "<div>\n",
       "<style scoped>\n",
       "    .dataframe tbody tr th:only-of-type {\n",
       "        vertical-align: middle;\n",
       "    }\n",
       "\n",
       "    .dataframe tbody tr th {\n",
       "        vertical-align: top;\n",
       "    }\n",
       "\n",
       "    .dataframe thead th {\n",
       "        text-align: right;\n",
       "    }\n",
       "</style>\n",
       "<table border=\"1\" class=\"dataframe\">\n",
       "  <thead>\n",
       "    <tr style=\"text-align: right;\">\n",
       "      <th></th>\n",
       "      <th>Mouse ID</th>\n",
       "      <th>Drug Regimen</th>\n",
       "      <th>Timepoint</th>\n",
       "      <th>Final Tumor Volume</th>\n",
       "      <th>Metastatic Sites</th>\n",
       "    </tr>\n",
       "  </thead>\n",
       "  <tbody>\n",
       "    <tr>\n",
       "      <th>31</th>\n",
       "      <td>c326</td>\n",
       "      <td>Infubinol</td>\n",
       "      <td>5</td>\n",
       "      <td>36.321346</td>\n",
       "      <td>0</td>\n",
       "    </tr>\n",
       "  </tbody>\n",
       "</table>\n",
       "</div>"
      ],
      "text/plain": [
       "   Mouse ID Drug Regimen  Timepoint  Final Tumor Volume  Metastatic Sites\n",
       "31     c326    Infubinol          5           36.321346                 0"
      ]
     },
     "execution_count": 10,
     "metadata": {},
     "output_type": "execute_result"
    }
   ],
   "source": [
    "# Calculating for Infubinol\n",
    "Search_Str=['Infubinol']\n",
    "Infubinol_df=merge_df[merge_df[\"Drug Regimen\"].isin(Search_Str)]\n",
    "Infubinol_df\n",
    "Inf_quartiles = Infubinol_df[\"Final Tumor Volume\"].quantile([.25,.5,.75])\n",
    "Inf_quartiles\n",
    "Inf_lowerq = Inf_quartiles[0.25]\n",
    "Inf_upperq = Inf_quartiles[0.75]\n",
    "Inf_iqr = Inf_upperq-Inf_lowerq\n",
    "print(f\"The lower quartile of Infubinol tumor volume is: {Inf_lowerq}\")\n",
    "print(f\"The upper quartile of Infubinol tumor volume is: {Inf_upperq}\")\n",
    "print(f\"The interquartile range of Infubinol tumor volume is: {Inf_iqr}\")\n",
    "print(f\"The the median of Infubinol tumor volume is: {Inf_quartiles[0.5]} \")\n",
    "\n",
    "Inf_lower_bound = Inf_lowerq - (1.5*Inf_iqr)\n",
    "Inf_upper_bound = Inf_upperq + (1.5*Inf_iqr)\n",
    "print(f\"Infubinol Values below {Inf_lower_bound} could be outliers.\")\n",
    "print(f\"Infubinol Values above {Inf_upper_bound} could be outliers.\")\n",
    "is_Outliers=(Infubinol_df[\"Final Tumor Volume\"] > Inf_upper_bound) | (Infubinol_df[\"Final Tumor Volume\"] < Inf_lower_bound)\n",
    "#final_Tumor_Volumes_Promising_Regimens_df.head(63)\n",
    "print(\"--------------------------------\")\n",
    "print(\"Below are the Infubinol Outliers\")\n",
    "print(\"--------------------------------\")\n",
    "if(len(Infubinol_df[is_Outliers])== 0):\n",
    "    print(\"No outlier data for Infubinol Drug Regimen Final Tumor Volumes \")\n",
    "Infubinol_df[is_Outliers]"
   ]
  },
  {
   "cell_type": "code",
   "execution_count": 11,
   "metadata": {},
   "outputs": [
    {
     "name": "stdout",
     "output_type": "stream",
     "text": [
      "The lower quartile of Ceftamin tumor volume is: 48.72207785\n",
      "The upper quartile of Ceftamin tumor volume is: 64.29983003\n",
      "The interquartile range of Ceftamin tumor volume is: 15.577752179999997\n",
      "The the median of Ceftamin tumor volume is: 59.85195552 \n",
      "Ceftamin Values below 25.355449580000002 could be outliers.\n",
      "Ceftamin Values above 87.66645829999999 could be outliers.\n",
      "-------------------------------\n",
      "Below are the Ceftamin Outliers\n",
      "-------------------------------\n",
      "No outlier data for Ceftamin Drug Regimen Final Tumor Volumes \n"
     ]
    },
    {
     "data": {
      "text/html": [
       "<div>\n",
       "<style scoped>\n",
       "    .dataframe tbody tr th:only-of-type {\n",
       "        vertical-align: middle;\n",
       "    }\n",
       "\n",
       "    .dataframe tbody tr th {\n",
       "        vertical-align: top;\n",
       "    }\n",
       "\n",
       "    .dataframe thead th {\n",
       "        text-align: right;\n",
       "    }\n",
       "</style>\n",
       "<table border=\"1\" class=\"dataframe\">\n",
       "  <thead>\n",
       "    <tr style=\"text-align: right;\">\n",
       "      <th></th>\n",
       "      <th>Mouse ID</th>\n",
       "      <th>Drug Regimen</th>\n",
       "      <th>Timepoint</th>\n",
       "      <th>Final Tumor Volume</th>\n",
       "      <th>Metastatic Sites</th>\n",
       "    </tr>\n",
       "  </thead>\n",
       "  <tbody>\n",
       "  </tbody>\n",
       "</table>\n",
       "</div>"
      ],
      "text/plain": [
       "Empty DataFrame\n",
       "Columns: [Mouse ID, Drug Regimen, Timepoint, Final Tumor Volume, Metastatic Sites]\n",
       "Index: []"
      ]
     },
     "execution_count": 11,
     "metadata": {},
     "output_type": "execute_result"
    }
   ],
   "source": [
    "#Calculating for Ceftamin\n",
    "Search_Str=['Ceftamin']\n",
    "Ceftamin_df=merge_df[merge_df[\"Drug Regimen\"].isin(Search_Str)]\n",
    "Ceftamin_df\n",
    "Cef_quartiles = Ceftamin_df[\"Final Tumor Volume\"].quantile([.25,.5,.75])\n",
    "Cef_quartiles\n",
    "Cef_lowerq = Cef_quartiles[0.25]\n",
    "Cef_upperq = Cef_quartiles[0.75]\n",
    "Cef_iqr = Cef_upperq-Cef_lowerq\n",
    "print(f\"The lower quartile of Ceftamin tumor volume is: {Cef_lowerq}\")\n",
    "print(f\"The upper quartile of Ceftamin tumor volume is: {Cef_upperq}\")\n",
    "print(f\"The interquartile range of Ceftamin tumor volume is: {Cef_iqr}\")\n",
    "print(f\"The the median of Ceftamin tumor volume is: {Cef_quartiles[0.5]} \")\n",
    "\n",
    "Cef_lower_bound = Cef_lowerq - (1.5*Cef_iqr)\n",
    "Cef_upper_bound = Cef_upperq + (1.5*Cef_iqr)\n",
    "print(f\"Ceftamin Values below {Cef_lower_bound} could be outliers.\")\n",
    "print(f\"Ceftamin Values above {Cef_upper_bound} could be outliers.\")\n",
    "is_Outliers=(Ceftamin_df[\"Final Tumor Volume\"] > Cef_upper_bound) \n",
    "print(\"-------------------------------\")\n",
    "print(\"Below are the Ceftamin Outliers\")\n",
    "print(\"-------------------------------\")\n",
    "if(len(Ceftamin_df[is_Outliers])== 0):\n",
    "    print(\"No outlier data for Ceftamin Drug Regimen Final Tumor Volumes \")\n",
    "Ceftamin_df[is_Outliers]"
   ]
  },
  {
   "cell_type": "code",
   "execution_count": 12,
   "metadata": {},
   "outputs": [
    {
     "data": {
      "image/png": "[encoded data removed]",
      "text/plain": [
       "<Figure size 432x288 with 1 Axes>"
      ]
     },
     "metadata": {
      "needs_background": "light"
     },
     "output_type": "display_data"
    }
   ],
   "source": [
    "# Generate a box plot of the final tumor volume of each mouse across four regimens of interest\n",
    "Cap_data = Capomulin_df[\"Final Tumor Volume\"]\n",
    "Ram_data = Ramicane_df[\"Final Tumor Volume\"]\n",
    "Inf_data = Infubinol_df[\"Final Tumor Volume\"]\n",
    "Cef_data = Ceftamin_df[\"Final Tumor Volume\"]\n",
    "data = [Cap_data, Ram_data,Inf_data,Cef_data]\n",
    "fig1, ax1 = plt.subplots()\n",
    "ax1.set_title('Boxplots of All 4 Drug Regimens on Final Tumor Volume')\n",
    "ax1.set_ylabel('Tumor Volume')\n",
    "controls=[\"Capomulin\",\"Ramicane\",\"Infubinol\",\"Ceftamin\"]\n",
    "colors = [\"pink\", \"lightblue\", \"lightgreen\",\"red\"]\n",
    "ax1.boxplot(data,labels=controls)\n",
    "plt.show()"
   ]
  },
  {
   "cell_type": "markdown",
   "metadata": {},
   "source": [
    "## Line and scatter plots"
   ]
  },
  {
   "cell_type": "code",
   "execution_count": 13,
   "metadata": {},
   "outputs": [
    {
     "data": {
      "text/plain": [
       "[<matplotlib.lines.Line2D at 0x1bf691d6ac8>]"
      ]
     },
     "execution_count": 13,
     "metadata": {},
     "output_type": "execute_result"
    },
    {
     "data": {
      "image/png": "[encoded data removed]",
      "text/plain": [
       "<Figure size 432x288 with 1 Axes>"
      ]
     },
     "metadata": {
      "needs_background": "light"
     },
     "output_type": "display_data"
    }
   ],
   "source": [
    "# Generate a line plot of time point versus tumor volume for a mouse treated with Capomulin\n",
    "Search_Str=['Capomulin']\n",
    "Cap_data=combined_data[combined_data[\"Drug Regimen\"].isin(Search_Str)]\n",
    "Cap_data\n",
    "Mouse_Str=['s185']\n",
    "Mouse_data=Cap_data[Cap_data[\"Mouse ID\"].isin(Mouse_Str)]\n",
    "Mouse_data\n",
    "x_axis=Mouse_data[\"Timepoint\"]\n",
    "x_axis\n",
    "y_axis=Mouse_data[\"Tumor Volume (mm3)\"]\n",
    "y_axis\n",
    "plt.xlabel(\"Timepoint\")\n",
    "plt.ylabel(\"Tumor Volume (mm3)\")\n",
    "plt.title('Mouse s185 Tumor Volume by Timepoint treated with capomulin')\n",
    "plt.plot(x_axis, y_axis, marker ='o', color='blue')\n",
    "#plt.show()"
   ]
  },
  {
   "cell_type": "code",
   "execution_count": 14,
   "metadata": {},
   "outputs": [
    {
     "data": {
      "image/png": "[encoded data removed]",
      "text/plain": [
       "<Figure size 432x288 with 1 Axes>"
      ]
     },
     "metadata": {
      "needs_background": "light"
     },
     "output_type": "display_data"
    }
   ],
   "source": [
    "# Generate a scatter plot of mouse weight versus average tumor volume for the Capomulin regimen\n",
    "\n",
    "groupby_df=Cap_data.groupby([\"Mouse ID\",\"Weight (g)\"])\n",
    "groupby_df.count()\n",
    "Avg_Tumor_Vol=groupby_df[\"Tumor Volume (mm3)\"].mean().reset_index(name='Avg Tumer Volume')\n",
    "Avg_Tumor_Vol.head(30)\n",
    "x_values = Avg_Tumor_Vol['Weight (g)']\n",
    "y_values = Avg_Tumor_Vol['Avg Tumer Volume']\n",
    "plt.scatter(x_values,y_values)\n",
    "plt.xlabel('Weight of Mouse')\n",
    "plt.ylabel('Average Tumer Volume')\n",
    "plt.title('Mouse Weight Vs Average Tumor Volume for Capomulin regimen')\n",
    "plt.show()"
   ]
  },
  {
   "cell_type": "code",
   "execution_count": 15,
   "metadata": {},
   "outputs": [
    {
     "name": "stdout",
     "output_type": "stream",
     "text": [
      "The correlation between Mouse Weight and Avg Tumor Volume is 0.84\n",
      "The r-value is: 0.8419363424694718\n",
      "The r-squared is: 0.7088568047708717\n"
     ]
    },
    {
     "data": {
      "image/png": "[encoded data removed]",
      "text/plain": [
       "<Figure size 432x288 with 1 Axes>"
      ]
     },
     "metadata": {
      "needs_background": "light"
     },
     "output_type": "display_data"
    }
   ],
   "source": [
    "# Calculate the correlation coefficient and linear regression model for mouse weight and average tumor volume for the Capomulin regimen\n",
    "\n",
    "correlation = st.pearsonr(x_values,y_values)\n",
    "print(f\"The correlation between Mouse Weight and Avg Tumor Volume is {round(correlation[0],2)}\")\n",
    "(slope, intercept, rvalue, pvalue, stderr) = linregress(x_values, y_values)\n",
    "regress_values = x_values * slope + intercept\n",
    "line_eq = \"y = \" + str(round(slope,2)) + \"x + \" + str(round(intercept,2))\n",
    "plt.xlabel('Weight of Mouse')\n",
    "plt.ylabel('Average Tumer Volume')\n",
    "plt.title('Mouse Weight Vs Average Tumor Volume for Capomulin regimen and linear regression')\n",
    "plt.scatter(x_values,y_values)\n",
    "plt.plot(x_values,regress_values,\"r-\")\n",
    "plt.annotate(line_eq,(15,40),fontsize=15,color=\"red\")\n",
    "print(f\"The r-value is: {rvalue}\")\n",
    "print(f\"The r-squared is: {rvalue**2}\")\n",
    "plt.show()"
   ]
  },
  {
   "cell_type": "code",
   "execution_count": null,
   "metadata": {},
   "outputs": [],
   "source": []
  }
 ],
 "metadata": {
  "anaconda-cloud": {},
  "kernelspec": {
   "display_name": "Python [conda env:.conda-PythonData] *",
   "language": "python",
   "name": "conda-env-.conda-PythonData-py"
  },
  "language_info": {
   "codemirror_mode": {
    "name": "ipython",
    "version": 3
   },
   "file_extension": ".py",
   "mimetype": "text/x-python",
   "name": "python",
   "nbconvert_exporter": "python",
   "pygments_lexer": "ipython3",
   "version": "3.6.10"
  }
 },
 "nbformat": 4,
 "nbformat_minor": 2
}
